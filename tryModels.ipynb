{
 "cells": [
  {
   "cell_type": "markdown",
   "metadata": {},
   "source": [
    "# Setup"
   ]
  },
  {
   "cell_type": "code",
   "execution_count": 1,
   "metadata": {},
   "outputs": [],
   "source": [
    "from getData import get_train_data, get_test_data\n",
    "from models import RandomModel, ConstantModel, LangidModel, StatModel\n",
    "from utils import LABELS, process_unicode, inverse_dictionary, get_unicode\n",
    "import os\n",
    "import pandas as pd"
   ]
  },
  {
   "cell_type": "code",
   "execution_count": 2,
   "metadata": {},
   "outputs": [],
   "source": [
    "seed = 1\n",
    "\n",
    "workspace_path = os.getcwd()\n",
    "train_csv_path = os.path.join(workspace_path, 'train_submission.csv')\n",
    "\n",
    "train_df, validation_df = get_train_data(train_csv_path, seed, removeNaNs = True, validation_proportion = 0.2, shuffle=True)\n",
    "\n",
    "validation_text_list = validation_df['Text'].tolist()\n",
    "validation_label_list = validation_df['Label'].tolist()"
   ]
  },
  {
   "cell_type": "markdown",
   "metadata": {},
   "source": [
    "# Models"
   ]
  },
  {
   "cell_type": "code",
   "execution_count": 3,
   "metadata": {},
   "outputs": [
    {
     "name": "stdout",
     "output_type": "stream",
     "text": [
      "0.003483421494000774\n",
      "1.355050961166301\n"
     ]
    }
   ],
   "source": [
    "random_model = RandomModel(LABELS, seed)\n",
    "\n",
    "correct, total = random_model.validate(validation_df['Text'].tolist(), validation_df['Label'].tolist())\n",
    "\n",
    "print(correct/ total) # should be around 1/389\n",
    "print((correct/ total)*389) #should be around 1"
   ]
  },
  {
   "cell_type": "code",
   "execution_count": 4,
   "metadata": {},
   "outputs": [
    {
     "name": "stdout",
     "output_type": "stream",
     "text": [
      "0.008644045929557476\n",
      "1.0949124844106137\n"
     ]
    }
   ],
   "source": [
    "constant_model = ConstantModel(LABELS, \"tgk\")\n",
    "\n",
    "correct, total = constant_model.validate(validation_text_list, validation_label_list)\n",
    "\n",
    "print(correct/ total) # should be around 300/38000\n",
    "print((correct/ total)*(38000/300)) #should be around 1"
   ]
  },
  {
   "cell_type": "code",
   "execution_count": 5,
   "metadata": {},
   "outputs": [
    {
     "name": "stdout",
     "output_type": "stream",
     "text": [
      "0.19429750999870984\n"
     ]
    }
   ],
   "source": [
    "langid_model = LangidModel(LABELS)\n",
    "\n",
    "correct, total = langid_model.validate(validation_text_list, validation_label_list)\n",
    "\n",
    "print(correct/ total) # should be big"
   ]
  },
  {
   "cell_type": "code",
   "execution_count": 6,
   "metadata": {},
   "outputs": [
    {
     "name": "stdout",
     "output_type": "stream",
     "text": [
      "0.003225390272222939\n"
     ]
    }
   ],
   "source": [
    "all_unicodes, language_unicodes = process_unicode(train_df, get_unicode)\n",
    "unicode_languages = inverse_dictionary(language_unicodes)\n",
    "\n",
    "stat_model = StatModel(LABELS, unicode_languages, seed)\n",
    "\n",
    "correct, total = stat_model.validate(validation_text_list, validation_label_list)\n",
    "\n",
    "print(correct/ total) # hopefully big"
   ]
  },
  {
   "cell_type": "markdown",
   "metadata": {},
   "source": [
    "# Pistes"
   ]
  },
  {
   "cell_type": "markdown",
   "metadata": {},
   "source": [
    "- cld3"
   ]
  }
 ],
 "metadata": {
  "kernelspec": {
   "display_name": "envNLP",
   "language": "python",
   "name": "python3"
  },
  "language_info": {
   "codemirror_mode": {
    "name": "ipython",
    "version": 3
   },
   "file_extension": ".py",
   "mimetype": "text/x-python",
   "name": "python",
   "nbconvert_exporter": "python",
   "pygments_lexer": "ipython3",
   "version": "3.10.9"
  }
 },
 "nbformat": 4,
 "nbformat_minor": 2
}
