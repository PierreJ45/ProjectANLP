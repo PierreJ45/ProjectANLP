{
 "cells": [
  {
   "cell_type": "code",
   "execution_count": 1,
   "metadata": {},
   "outputs": [],
   "source": [
    "import os\n",
    "import pandas as pd\n",
    "import matplotlib.pyplot as plt\n",
    "from utils import get_unicode, LABELS, process_unicode, inverse_dictionary\n",
    "from getData import get_train_data, get_test_data\n",
    "\n",
    "seed = 1"
   ]
  },
  {
   "cell_type": "markdown",
   "metadata": {},
   "source": [
    "# First look"
   ]
  },
  {
   "cell_type": "code",
   "execution_count": 2,
   "metadata": {},
   "outputs": [],
   "source": [
    "workspace_path = os.getcwd()\n",
    "train_csv_path = os.path.join(workspace_path, 'train_submission.csv')\n",
    "test_csv_path = os.path.join(workspace_path, 'test_without_labels.csv')"
   ]
  },
  {
   "cell_type": "code",
   "execution_count": 3,
   "metadata": {},
   "outputs": [],
   "source": [
    "train_df, _ = get_train_data(train_csv_path, seed, removeNaNs=False, validation_proportion=0)\n",
    "test_df = get_test_data(test_csv_path)"
   ]
  },
  {
   "cell_type": "code",
   "execution_count": 4,
   "metadata": {},
   "outputs": [
    {
     "data": {
      "text/html": [
       "<div>\n",
       "<style scoped>\n",
       "    .dataframe tbody tr th:only-of-type {\n",
       "        vertical-align: middle;\n",
       "    }\n",
       "\n",
       "    .dataframe tbody tr th {\n",
       "        vertical-align: top;\n",
       "    }\n",
       "\n",
       "    .dataframe thead th {\n",
       "        text-align: right;\n",
       "    }\n",
       "</style>\n",
       "<table border=\"1\" class=\"dataframe\">\n",
       "  <thead>\n",
       "    <tr style=\"text-align: right;\">\n",
       "      <th></th>\n",
       "      <th>ID</th>\n",
       "      <th>Usage</th>\n",
       "      <th>Text</th>\n",
       "      <th>Label</th>\n",
       "    </tr>\n",
       "  </thead>\n",
       "  <tbody>\n",
       "    <tr>\n",
       "      <th>11206</th>\n",
       "      <td>158</td>\n",
       "      <td>Public</td>\n",
       "      <td>Surflariak bere erronka berretsi du onena: ASP...</td>\n",
       "      <td>eus</td>\n",
       "    </tr>\n",
       "    <tr>\n",
       "      <th>29517</th>\n",
       "      <td>112</td>\n",
       "      <td>Public</td>\n",
       "      <td>L' capelle Nou-Danme des Affligés (XIX sièke)</td>\n",
       "      <td>pcd</td>\n",
       "    </tr>\n",
       "    <tr>\n",
       "      <th>4398</th>\n",
       "      <td>78</td>\n",
       "      <td>Public</td>\n",
       "      <td>go to the last pageStock label  navigation</td>\n",
       "      <td>san</td>\n",
       "    </tr>\n",
       "    <tr>\n",
       "      <th>7759</th>\n",
       "      <td>80</td>\n",
       "      <td>Public</td>\n",
       "      <td>Fosilizácia je veľmi zriedkavý jav a väčšina f...</td>\n",
       "      <td>slk</td>\n",
       "    </tr>\n",
       "    <tr>\n",
       "      <th>32308</th>\n",
       "      <td>134</td>\n",
       "      <td>Public</td>\n",
       "      <td>Короновирусы ног штамы аххосагæй еврокомис Евр...</td>\n",
       "      <td>oss</td>\n",
       "    </tr>\n",
       "  </tbody>\n",
       "</table>\n",
       "</div>"
      ],
      "text/plain": [
       "        ID   Usage                                               Text Label\n",
       "11206  158  Public  Surflariak bere erronka berretsi du onena: ASP...   eus\n",
       "29517  112  Public      L' capelle Nou-Danme des Affligés (XIX sièke)   pcd\n",
       "4398    78  Public         go to the last pageStock label  navigation   san\n",
       "7759    80  Public  Fosilizácia je veľmi zriedkavý jav a väčšina f...   slk\n",
       "32308  134  Public  Короновирусы ног штамы аххосагæй еврокомис Евр...   oss"
      ]
     },
     "execution_count": 4,
     "metadata": {},
     "output_type": "execute_result"
    }
   ],
   "source": [
    "train_df.head()"
   ]
  },
  {
   "cell_type": "code",
   "execution_count": 5,
   "metadata": {},
   "outputs": [
    {
     "data": {
      "text/html": [
       "<div>\n",
       "<style scoped>\n",
       "    .dataframe tbody tr th:only-of-type {\n",
       "        vertical-align: middle;\n",
       "    }\n",
       "\n",
       "    .dataframe tbody tr th {\n",
       "        vertical-align: top;\n",
       "    }\n",
       "\n",
       "    .dataframe thead th {\n",
       "        text-align: right;\n",
       "    }\n",
       "</style>\n",
       "<table border=\"1\" class=\"dataframe\">\n",
       "  <thead>\n",
       "    <tr style=\"text-align: right;\">\n",
       "      <th></th>\n",
       "      <th>ID</th>\n",
       "      <th>Usage</th>\n",
       "      <th>Text</th>\n",
       "    </tr>\n",
       "  </thead>\n",
       "  <tbody>\n",
       "    <tr>\n",
       "      <th>0</th>\n",
       "      <td>55</td>\n",
       "      <td>Private</td>\n",
       "      <td>Ponovo dobija riječni oblik do Drežnice.</td>\n",
       "    </tr>\n",
       "    <tr>\n",
       "      <th>1</th>\n",
       "      <td>71</td>\n",
       "      <td>Private</td>\n",
       "      <td>Se formaron aproximadamente hace apenas unos 1...</td>\n",
       "    </tr>\n",
       "    <tr>\n",
       "      <th>2</th>\n",
       "      <td>67</td>\n",
       "      <td>Private</td>\n",
       "      <td>Data juga harus terbebas dari kepentingan-kepe...</td>\n",
       "    </tr>\n",
       "    <tr>\n",
       "      <th>3</th>\n",
       "      <td>107</td>\n",
       "      <td>Private</td>\n",
       "      <td>ᐃᒃᓯᕙᐅᑕᖅ (ᑐᓵᔨᑎᒍᑦ): ᖁᔭᓐᓇᒦᒃ  ᒥᔅ ᐅᐃᓐᒥᐅᓪ. ᒥᔅᑕ ᐃᓄᒃ.</td>\n",
       "    </tr>\n",
       "    <tr>\n",
       "      <th>4</th>\n",
       "      <td>129</td>\n",
       "      <td>Private</td>\n",
       "      <td>Bei Gefor rullt de Kéiseker sech an  riicht se...</td>\n",
       "    </tr>\n",
       "  </tbody>\n",
       "</table>\n",
       "</div>"
      ],
      "text/plain": [
       "    ID    Usage                                               Text\n",
       "0   55  Private           Ponovo dobija riječni oblik do Drežnice.\n",
       "1   71  Private  Se formaron aproximadamente hace apenas unos 1...\n",
       "2   67  Private  Data juga harus terbebas dari kepentingan-kepe...\n",
       "3  107  Private      ᐃᒃᓯᕙᐅᑕᖅ (ᑐᓵᔨᑎᒍᑦ): ᖁᔭᓐᓇᒦᒃ  ᒥᔅ ᐅᐃᓐᒥᐅᓪ. ᒥᔅᑕ ᐃᓄᒃ.\n",
       "4  129  Private  Bei Gefor rullt de Kéiseker sech an  riicht se..."
      ]
     },
     "execution_count": 5,
     "metadata": {},
     "output_type": "execute_result"
    }
   ],
   "source": [
    "test_df.head()"
   ]
  },
  {
   "cell_type": "code",
   "execution_count": 6,
   "metadata": {},
   "outputs": [
    {
     "name": "stdout",
     "output_type": "stream",
     "text": [
      "train_num: 38854\n",
      "test_num: 38827\n"
     ]
    }
   ],
   "source": [
    "# get the number of lines in the train and test data\n",
    "train_num = len(train_df)\n",
    "test_num = len(test_df)\n",
    "print('train_num:', train_num)\n",
    "print('test_num:', test_num)"
   ]
  },
  {
   "cell_type": "code",
   "execution_count": 7,
   "metadata": {},
   "outputs": [
    {
     "name": "stdout",
     "output_type": "stream",
     "text": [
      "Index(['ID', 'Usage', 'Text', 'Label'], dtype='object')\n"
     ]
    }
   ],
   "source": [
    "\n",
    "print(train_df.columns)"
   ]
  },
  {
   "cell_type": "markdown",
   "metadata": {},
   "source": [
    "# IDs ??"
   ]
  },
  {
   "cell_type": "code",
   "execution_count": 8,
   "metadata": {},
   "outputs": [
    {
     "data": {
      "text/plain": [
       "<Axes: >"
      ]
     },
     "execution_count": 8,
     "metadata": {},
     "output_type": "execute_result"
    },
    {
     "data": {
      "image/png": "[encoded data removed]",
      "text/plain": [
       "<Figure size 640x480 with 1 Axes>"
      ]
     },
     "metadata": {},
     "output_type": "display_data"
    }
   ],
   "source": [
    "# plot the histograms of the ID column in train\n",
    "train_df['ID'].hist()"
   ]
  },
  {
   "cell_type": "code",
   "execution_count": 9,
   "metadata": {},
   "outputs": [
    {
     "data": {
      "text/html": [
       "<div>\n",
       "<style scoped>\n",
       "    .dataframe tbody tr th:only-of-type {\n",
       "        vertical-align: middle;\n",
       "    }\n",
       "\n",
       "    .dataframe tbody tr th {\n",
       "        vertical-align: top;\n",
       "    }\n",
       "\n",
       "    .dataframe thead th {\n",
       "        text-align: right;\n",
       "    }\n",
       "</style>\n",
       "<table border=\"1\" class=\"dataframe\">\n",
       "  <thead>\n",
       "    <tr style=\"text-align: right;\">\n",
       "      <th></th>\n",
       "      <th>ID</th>\n",
       "      <th>num_words</th>\n",
       "      <th>num_chars</th>\n",
       "    </tr>\n",
       "  </thead>\n",
       "  <tbody>\n",
       "    <tr>\n",
       "      <th>11206</th>\n",
       "      <td>158</td>\n",
       "      <td>17</td>\n",
       "      <td>119</td>\n",
       "    </tr>\n",
       "    <tr>\n",
       "      <th>29517</th>\n",
       "      <td>112</td>\n",
       "      <td>7</td>\n",
       "      <td>45</td>\n",
       "    </tr>\n",
       "    <tr>\n",
       "      <th>4398</th>\n",
       "      <td>78</td>\n",
       "      <td>7</td>\n",
       "      <td>42</td>\n",
       "    </tr>\n",
       "    <tr>\n",
       "      <th>7759</th>\n",
       "      <td>80</td>\n",
       "      <td>17</td>\n",
       "      <td>124</td>\n",
       "    </tr>\n",
       "    <tr>\n",
       "      <th>32308</th>\n",
       "      <td>134</td>\n",
       "      <td>12</td>\n",
       "      <td>101</td>\n",
       "    </tr>\n",
       "  </tbody>\n",
       "</table>\n",
       "</div>"
      ],
      "text/plain": [
       "        ID  num_words  num_chars\n",
       "11206  158         17        119\n",
       "29517  112          7         45\n",
       "4398    78          7         42\n",
       "7759    80         17        124\n",
       "32308  134         12        101"
      ]
     },
     "execution_count": 9,
     "metadata": {},
     "output_type": "execute_result"
    }
   ],
   "source": [
    "# for train, create a dataframe containing ID, number of words and number of characters\n",
    "train_df['num_words'] = train_df['Text'].apply(lambda x: len(x.split()))\n",
    "train_df['num_chars'] = train_df['Text'].apply(lambda x: len(x))\n",
    "train_df[['ID', 'num_words', 'num_chars']].head()\n"
   ]
  },
  {
   "cell_type": "code",
   "execution_count": 10,
   "metadata": {},
   "outputs": [],
   "source": [
    "# remove the two counts\n",
    "train_df = train_df[[\"ID\", \"Usage\", \"Text\", \"Label\"]]"
   ]
  },
  {
   "cell_type": "markdown",
   "metadata": {},
   "source": [
    "# Alphabet"
   ]
  },
  {
   "cell_type": "code",
   "execution_count": 11,
   "metadata": {},
   "outputs": [
    {
     "name": "stdout",
     "output_type": "stream",
     "text": [
      "    Label  Count                                            Example\n",
      "0     tgk    300  آزادی‘‘ اور’’اسلام‘‘ کے دو عنوانات تھے جنکے سا...\n",
      "1     tat    200  1912 yılda Finiks - Arizona ştatınıñ başqalası...\n",
      "2     gom    200   थानेसर ह्या वैष्णव क्षेत्रांत एक व्हड सरोवर आसा.\n",
      "3     mon    200  14 цагийн өмнө za bas harangiin chuka l gene s...\n",
      "4     hbs    200  За мог Србина из дијаспоре порука  стварно вид...\n",
      "..    ...    ...                                                ...\n",
      "384   pau      2  A Burj Khalifa a kot el metongakl el blai ra b...\n",
      "385   gaa      1               Mɛni hewɔ ni oyaaa nitsumɔ ŋmɛnɛ lɛ?\n",
      "386   toi      1             Sena wasika ciindi nzi kung'anda yako?\n",
      "387   kua      1  Eendombwedi daJehowa  odi dili moilongo 236 (6...\n",
      "388   gcr      1  Jul  (/dʒuːl/ (Djoul))  li k'aplé réèlman Juli...\n",
      "\n",
      "[389 rows x 3 columns]\n"
     ]
    }
   ],
   "source": [
    "\n",
    "# Assuming train_df is your DataFrame\n",
    "label_counts = train_df['Label'].value_counts()\n",
    "\n",
    "# Create a DataFrame to store label counts and examples\n",
    "label_summary = pd.DataFrame({\n",
    "    'Label': label_counts.index,                  # Labels\n",
    "    'Count': label_counts.values,                # Corresponding counts\n",
    "    'Example': [train_df[train_df['Label'] == label].iloc[0]['Text'] for label in label_counts.index]  # Extract only the 'Text' field\n",
    "})\n",
    "\n",
    "# Display the summary\n",
    "print(label_summary)"
   ]
  },
  {
   "cell_type": "code",
   "execution_count": 12,
   "metadata": {},
   "outputs": [
    {
     "name": "stdout",
     "output_type": "stream",
     "text": [
      "Label\n",
      "tgk    300\n",
      "tat    200\n",
      "gom    200\n",
      "mon    200\n",
      "hbs    200\n",
      "      ... \n",
      "pau      2\n",
      "gaa      1\n",
      "toi      1\n",
      "kua      1\n",
      "gcr      1\n",
      "Name: count, Length: 389, dtype: int64\n"
     ]
    }
   ],
   "source": [
    "\n",
    "print(label_counts)"
   ]
  },
  {
   "cell_type": "code",
   "execution_count": 13,
   "metadata": {},
   "outputs": [],
   "source": []
  },
  {
   "cell_type": "code",
   "execution_count": 13,
   "metadata": {},
   "outputs": [],
   "source": [
    "all_unicodes, language_unicodes = process_unicode(train_df, get_unicode)\n"
   ]
  },
  {
   "cell_type": "code",
   "execution_count": 14,
   "metadata": {},
   "outputs": [
    {
     "name": "stdout",
     "output_type": "stream",
     "text": [
      "All Unicode length:\n",
      "6462\n",
      "\n",
      "Number of languages:\n",
      "390\n"
     ]
    }
   ],
   "source": [
    "print(\"All Unicode length:\")\n",
    "print(len(all_unicodes))\n",
    "\n",
    "print(\"\\nNumber of languages:\") #key = language, value = set of all unicodes seen in that language\n",
    "print(len(language_unicodes))"
   ]
  },
  {
   "cell_type": "markdown",
   "metadata": {},
   "source": [
    "# Inconsistency : NaN + 389 Labels"
   ]
  },
  {
   "cell_type": "code",
   "execution_count": 15,
   "metadata": {},
   "outputs": [
    {
     "name": "stdout",
     "output_type": "stream",
     "text": [
      "390\n"
     ]
    }
   ],
   "source": [
    "distinct_labels = train_df['Label'].unique()\n",
    "\n",
    "print(len(distinct_labels))"
   ]
  },
  {
   "cell_type": "code",
   "execution_count": 16,
   "metadata": {},
   "outputs": [
    {
     "name": "stdout",
     "output_type": "stream",
     "text": [
      "Index(['tgk', 'tat', 'gom', 'mon', 'hbs', 'kaa', 'kur', 'crh', 'kat', 'hin',\n",
      "       ...\n",
      "       'niu', 'wbm', 'crs', 'gil', 'tvl', 'pau', 'gaa', 'toi', 'kua', 'gcr'],\n",
      "      dtype='object', name='Label', length=389)\n"
     ]
    }
   ],
   "source": [
    "print(label_counts.index)\n"
   ]
  },
  {
   "cell_type": "markdown",
   "metadata": {},
   "source": [
    "1 more in distinct ?? wtf ???"
   ]
  },
  {
   "cell_type": "code",
   "execution_count": 17,
   "metadata": {},
   "outputs": [],
   "source": [
    "set_distinct_labels = set(distinct_labels)\n",
    "set_label_counts = set(label_counts.index)"
   ]
  },
  {
   "cell_type": "code",
   "execution_count": 18,
   "metadata": {},
   "outputs": [],
   "source": [
    "only_in_distinct = set_distinct_labels - set_label_counts  # Labels only in distinct_labels\n",
    "only_in_label_counts = set_label_counts - set_distinct_labels"
   ]
  },
  {
   "cell_type": "code",
   "execution_count": 19,
   "metadata": {},
   "outputs": [
    {
     "name": "stdout",
     "output_type": "stream",
     "text": [
      "Labels only in distinct_labels: {nan}\n",
      "Labels only in label_counts: set()\n",
      "Number of labels only in distinct_labels: 1\n",
      "Number of labels only in label_counts: 0\n"
     ]
    }
   ],
   "source": [
    "# Print the differences\n",
    "print(\"Labels only in distinct_labels:\", only_in_distinct)\n",
    "print(\"Labels only in label_counts:\", only_in_label_counts)\n",
    "\n",
    "# Optional: Check if the lengths match after excluding any missing data\n",
    "print(\"Number of labels only in distinct_labels:\", len(only_in_distinct))\n",
    "print(\"Number of labels only in label_counts:\", len(only_in_label_counts))"
   ]
  },
  {
   "cell_type": "code",
   "execution_count": 20,
   "metadata": {},
   "outputs": [
    {
     "name": "stdout",
     "output_type": "stream",
     "text": [
      "        ID   Usage                                               Text Label\n",
      "38712   36  Public  Barsukinė sī chi̍t ê tī Lietuva Kiōng-hô-kok K...   NaN\n",
      "33922    6  Public  Chi̍t-ê nî-khin ê ma-ma  chhōa i saⁿ hòe ê gín...   NaN\n",
      "20443   54  Public  Lī-su-tē 獨獨 tiàm tī 這tah 停腳，m̄知是啥物緣故；或是愛惜花木，抑是...   NaN\n",
      "22102   86  Public  Ē  ē  lí kóng hit-mê chia̍h chiú liáu hui-siôn...   NaN\n",
      "35168   16  Public  Nakhon Ratchasima (Thài-gí: นครราชสีมา) sī Thà...   NaN\n",
      "...    ...     ...                                                ...   ...\n",
      "23985   40  Public  Àn-chiàu Tiong-hôa Jîn-bîn Kiōng-hô-kok Hiàn-h...   NaN\n",
      "3952   142  Public  New Harmony sī Bí-kok Utah chiu Washington kūn...   NaN\n",
      "21829   24  Public  Padubiai sī chi̍t ê tī Lietuva Kiōng-hô-kok Vi...   NaN\n",
      "12900   10  Public  1956-1995 nî--ê kâng-miâ chhī  chhiáⁿ khoàⁿ Iâ...   NaN\n",
      "27660  120  Public  Maisonsgoutte sī ūi-tī Hoat-kok Alsace toā-khu...   NaN\n",
      "\n",
      "[100 rows x 4 columns]\n"
     ]
    }
   ],
   "source": [
    "# Find the rows where 'Label' is NaN\n",
    "nan_rows = train_df[train_df['Label'].isna()]\n",
    "\n",
    "# Display the rows with NaN in the 'Label' column\n",
    "print(nan_rows)\n"
   ]
  },
  {
   "cell_type": "markdown",
   "metadata": {},
   "source": [
    "100 NaN Labels for some reason"
   ]
  },
  {
   "cell_type": "markdown",
   "metadata": {},
   "source": [
    "# First idea : naive character selection"
   ]
  },
  {
   "cell_type": "code",
   "execution_count": 21,
   "metadata": {},
   "outputs": [],
   "source": [
    "# Initialize the dictionary to track how many languages each Unicode appears in\n",
    "unicode_language_count = {}\n",
    "\n",
    "# Count the number of languages each Unicode appears in\n",
    "for language, unicodes in language_unicodes.items():\n",
    "    for unicode_value in unicodes:\n",
    "        # Increment the count of languages for this Unicode\n",
    "        if unicode_value in unicode_language_count:\n",
    "            unicode_language_count[unicode_value] += 1\n",
    "        else:\n",
    "            unicode_language_count[unicode_value] = 1\n",
    "\n",
    "# Step 2: Extract the counts for the histogram\n",
    "language_counts = list(unicode_language_count.values())\n"
   ]
  },
  {
   "cell_type": "code",
   "execution_count": 22,
   "metadata": {},
   "outputs": [
    {
     "name": "stdout",
     "output_type": "stream",
     "text": [
      "U+0061 :  377\n",
      "U+042F :  27\n",
      "U+6211 :  4\n"
     ]
    }
   ],
   "source": [
    "print(\"U+0061 : \", unicode_language_count[\"U+0061\"]) # a\n",
    "print(\"U+042F : \", unicode_language_count[\"U+042F\"]) # Я\n",
    "print(\"U+6211 : \", unicode_language_count[\"U+6211\"]) # 我"
   ]
  },
  {
   "cell_type": "code",
   "execution_count": 23,
   "metadata": {},
   "outputs": [
    {
     "data": {
      "image/png": "[encoded data removed]",
      "text/plain": [
       "<Figure size 640x480 with 1 Axes>"
      ]
     },
     "metadata": {},
     "output_type": "display_data"
    }
   ],
   "source": [
    "# Plot histogram\n",
    "plt.hist(language_counts, bins=range(1, max(language_counts)+2), edgecolor='black')\n",
    "plt.xlabel('Number of languages per Unicode')\n",
    "plt.ylabel('Frequency')\n",
    "plt.title('Histogram of Unicode usage across languages')\n",
    "plt.show()"
   ]
  },
  {
   "cell_type": "code",
   "execution_count": 24,
   "metadata": {},
   "outputs": [
    {
     "name": "stdout",
     "output_type": "stream",
     "text": [
      "6462\n"
     ]
    }
   ],
   "source": [
    "print(len(language_counts))"
   ]
  },
  {
   "cell_type": "code",
   "execution_count": 25,
   "metadata": {},
   "outputs": [
    {
     "data": {
      "image/png": "[encoded data removed]",
      "text/plain": [
       "<Figure size 640x480 with 1 Axes>"
      ]
     },
     "metadata": {},
     "output_type": "display_data"
    }
   ],
   "source": [
    "plt.hist(language_counts, bins=range(1, 10), edgecolor='black')\n",
    "plt.xlabel('Number of languages per Unicode')\n",
    "plt.ylabel('Frequency')\n",
    "plt.title('Histogram of Unicode usage across languages')\n",
    "plt.show()"
   ]
  },
  {
   "cell_type": "markdown",
   "metadata": {},
   "source": [
    "lots of unicodes appear in only one language."
   ]
  },
  {
   "cell_type": "markdown",
   "metadata": {},
   "source": [
    "# Proper data processing"
   ]
  },
  {
   "cell_type": "code",
   "execution_count": 26,
   "metadata": {},
   "outputs": [],
   "source": [
    "original_train_df = train_df"
   ]
  },
  {
   "cell_type": "code",
   "execution_count": 27,
   "metadata": {},
   "outputs": [],
   "source": [
    "train_df, validation_df = get_train_data(train_csv_path, seed, removeNaNs=True, validation_proportion=0.2)\n",
    "\n"
   ]
  },
  {
   "cell_type": "markdown",
   "metadata": {},
   "source": [
    "## Instanciate model"
   ]
  },
  {
   "cell_type": "code",
   "execution_count": null,
   "metadata": {},
   "outputs": [
    {
     "name": "stdout",
     "output_type": "stream",
     "text": [
      "0.003225390272222939\n"
     ]
    }
   ],
   "source": []
  },
  {
   "cell_type": "markdown",
   "metadata": {},
   "source": [
    "# Pistes"
   ]
  },
  {
   "cell_type": "markdown",
   "metadata": {},
   "source": [
    "- cld3"
   ]
  }
 ],
 "metadata": {
  "kernelspec": {
   "display_name": "envNLP",
   "language": "python",
   "name": "python3"
  },
  "language_info": {
   "codemirror_mode": {
    "name": "ipython",
    "version": 3
   },
   "file_extension": ".py",
   "mimetype": "text/x-python",
   "name": "python",
   "nbconvert_exporter": "python",
   "pygments_lexer": "ipython3",
   "version": "3.10.9"
  }
 },
 "nbformat": 4,
 "nbformat_minor": 2
}
