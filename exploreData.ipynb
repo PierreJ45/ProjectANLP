{
 "cells": [
  {
   "cell_type": "code",
   "execution_count": 23,
   "metadata": {},
   "outputs": [],
   "source": [
    "import os\n",
    "import pandas as pd\n",
    "import matplotlib.pyplot as plt\n",
    "from utils import get_unicode, process_unicode\n",
    "from data import get_train_data, get_test_data\n",
    "\n",
    "seed = 1"
   ]
  },
  {
   "cell_type": "markdown",
   "metadata": {},
   "source": [
    "# First look"
   ]
  },
  {
   "cell_type": "code",
   "execution_count": 2,
   "metadata": {},
   "outputs": [],
   "source": [
    "workspace_path = os.getcwd()\n",
    "train_csv_path = os.path.join(workspace_path, 'train_submission.csv')\n",
    "test_csv_path = os.path.join(workspace_path, 'test_without_labels.csv')"
   ]
  },
  {
   "cell_type": "code",
   "execution_count": 3,
   "metadata": {},
   "outputs": [],
   "source": [
    "train_df, *_ = get_train_data(val_size=0, random_state=seed)\n",
    "test_df = get_test_data()"
   ]
  },
  {
   "cell_type": "code",
   "execution_count": 4,
   "metadata": {},
   "outputs": [
    {
     "data": {
      "text/html": [
       "<div>\n",
       "<style scoped>\n",
       "    .dataframe tbody tr th:only-of-type {\n",
       "        vertical-align: middle;\n",
       "    }\n",
       "\n",
       "    .dataframe tbody tr th {\n",
       "        vertical-align: top;\n",
       "    }\n",
       "\n",
       "    .dataframe thead th {\n",
       "        text-align: right;\n",
       "    }\n",
       "</style>\n",
       "<table border=\"1\" class=\"dataframe\">\n",
       "  <thead>\n",
       "    <tr style=\"text-align: right;\">\n",
       "      <th></th>\n",
       "      <th>ID</th>\n",
       "      <th>Usage</th>\n",
       "      <th>Text</th>\n",
       "      <th>Label</th>\n",
       "      <th>Idx</th>\n",
       "    </tr>\n",
       "  </thead>\n",
       "  <tbody>\n",
       "    <tr>\n",
       "      <th>0</th>\n",
       "      <td>136</td>\n",
       "      <td>Public</td>\n",
       "      <td>Finalment  Atena le recibe en l'acropoli d'Ate...</td>\n",
       "      <td>arg</td>\n",
       "      <td>0</td>\n",
       "    </tr>\n",
       "    <tr>\n",
       "      <th>1</th>\n",
       "      <td>62</td>\n",
       "      <td>Public</td>\n",
       "      <td>Jane Laffort fille de Joseph Laffort et d' Ang...</td>\n",
       "      <td>lat</td>\n",
       "      <td>1</td>\n",
       "    </tr>\n",
       "    <tr>\n",
       "      <th>2</th>\n",
       "      <td>74</td>\n",
       "      <td>Public</td>\n",
       "      <td>Сонзэ ялаксонзо  - Роджер Джозеф Бошкович  - у...</td>\n",
       "      <td>myv</td>\n",
       "      <td>2</td>\n",
       "    </tr>\n",
       "    <tr>\n",
       "      <th>3</th>\n",
       "      <td>40</td>\n",
       "      <td>Public</td>\n",
       "      <td>Mɛniɛ nkùɔ dìì mɔ̀nnì bɛnìtìbɛ̀ kɛ́deè  kɛ̀ Nɔ...</td>\n",
       "      <td>tbz</td>\n",
       "      <td>3</td>\n",
       "    </tr>\n",
       "    <tr>\n",
       "      <th>4</th>\n",
       "      <td>30</td>\n",
       "      <td>Public</td>\n",
       "      <td>Ka go dirisa thekniki yeo ya phetogonepiso  Le...</td>\n",
       "      <td>tsn</td>\n",
       "      <td>4</td>\n",
       "    </tr>\n",
       "  </tbody>\n",
       "</table>\n",
       "</div>"
      ],
      "text/plain": [
       "    ID   Usage                                               Text Label  Idx\n",
       "0  136  Public  Finalment  Atena le recibe en l'acropoli d'Ate...   arg    0\n",
       "1   62  Public  Jane Laffort fille de Joseph Laffort et d' Ang...   lat    1\n",
       "2   74  Public  Сонзэ ялаксонзо  - Роджер Джозеф Бошкович  - у...   myv    2\n",
       "3   40  Public  Mɛniɛ nkùɔ dìì mɔ̀nnì bɛnìtìbɛ̀ kɛ́deè  kɛ̀ Nɔ...   tbz    3\n",
       "4   30  Public  Ka go dirisa thekniki yeo ya phetogonepiso  Le...   tsn    4"
      ]
     },
     "execution_count": 4,
     "metadata": {},
     "output_type": "execute_result"
    }
   ],
   "source": [
    "train_df.head()"
   ]
  },
  {
   "cell_type": "code",
   "execution_count": 5,
   "metadata": {},
   "outputs": [
    {
     "data": {
      "text/html": [
       "<div>\n",
       "<style scoped>\n",
       "    .dataframe tbody tr th:only-of-type {\n",
       "        vertical-align: middle;\n",
       "    }\n",
       "\n",
       "    .dataframe tbody tr th {\n",
       "        vertical-align: top;\n",
       "    }\n",
       "\n",
       "    .dataframe thead th {\n",
       "        text-align: right;\n",
       "    }\n",
       "</style>\n",
       "<table border=\"1\" class=\"dataframe\">\n",
       "  <thead>\n",
       "    <tr style=\"text-align: right;\">\n",
       "      <th></th>\n",
       "      <th>Usage</th>\n",
       "      <th>Text</th>\n",
       "    </tr>\n",
       "  </thead>\n",
       "  <tbody>\n",
       "    <tr>\n",
       "      <th>0</th>\n",
       "      <td>Private</td>\n",
       "      <td>Hüttwilen el xe on comune del Canton Turgovia ...</td>\n",
       "    </tr>\n",
       "    <tr>\n",
       "      <th>1</th>\n",
       "      <td>Private</td>\n",
       "      <td>La leĝo zorgas pri kompenso de nur la plej gra...</td>\n",
       "    </tr>\n",
       "    <tr>\n",
       "      <th>2</th>\n",
       "      <td>Private</td>\n",
       "      <td>پک اپ پر اپنے ڈرائیور سے پہلے پہنچیں</td>\n",
       "    </tr>\n",
       "    <tr>\n",
       "      <th>3</th>\n",
       "      <td>Private</td>\n",
       "      <td>Mukmu  Ch'itana mukmu icha Butun nisqaqa nisqa...</td>\n",
       "    </tr>\n",
       "    <tr>\n",
       "      <th>4</th>\n",
       "      <td>Private</td>\n",
       "      <td>Iwe   lon ena fansoun   lupwen ra aleani än Mo...</td>\n",
       "    </tr>\n",
       "  </tbody>\n",
       "</table>\n",
       "</div>"
      ],
      "text/plain": [
       "     Usage                                               Text\n",
       "0  Private  Hüttwilen el xe on comune del Canton Turgovia ...\n",
       "1  Private  La leĝo zorgas pri kompenso de nur la plej gra...\n",
       "2  Private               پک اپ پر اپنے ڈرائیور سے پہلے پہنچیں\n",
       "3  Private  Mukmu  Ch'itana mukmu icha Butun nisqaqa nisqa...\n",
       "4  Private  Iwe   lon ena fansoun   lupwen ra aleani än Mo..."
      ]
     },
     "execution_count": 5,
     "metadata": {},
     "output_type": "execute_result"
    }
   ],
   "source": [
    "test_df.head()"
   ]
  },
  {
   "cell_type": "code",
   "execution_count": 6,
   "metadata": {},
   "outputs": [
    {
     "name": "stdout",
     "output_type": "stream",
     "text": [
      "train_num: 38854\n",
      "test_num: 190567\n"
     ]
    }
   ],
   "source": [
    "# get the number of lines in the train and test data\n",
    "train_num = len(train_df)\n",
    "test_num = len(test_df)\n",
    "print('train_num:', train_num)\n",
    "print('test_num:', test_num)"
   ]
  },
  {
   "cell_type": "code",
   "execution_count": 7,
   "metadata": {},
   "outputs": [
    {
     "name": "stdout",
     "output_type": "stream",
     "text": [
      "Index(['ID', 'Usage', 'Text', 'Label', 'Idx'], dtype='object')\n"
     ]
    }
   ],
   "source": [
    "\n",
    "print(train_df.columns)"
   ]
  },
  {
   "cell_type": "markdown",
   "metadata": {},
   "source": [
    "# IDs ??"
   ]
  },
  {
   "cell_type": "code",
   "execution_count": 8,
   "metadata": {},
   "outputs": [
    {
     "data": {
      "text/plain": [
       "<Axes: >"
      ]
     },
     "execution_count": 8,
     "metadata": {},
     "output_type": "execute_result"
    },
    {
     "data": {
      "image/png": "[encoded data removed]",
      "text/plain": [
       "<Figure size 640x480 with 1 Axes>"
      ]
     },
     "metadata": {},
     "output_type": "display_data"
    }
   ],
   "source": [
    "# plot the histograms of the ID column in train\n",
    "train_df['ID'].hist()"
   ]
  },
  {
   "cell_type": "code",
   "execution_count": 9,
   "metadata": {},
   "outputs": [
    {
     "data": {
      "text/html": [
       "<div>\n",
       "<style scoped>\n",
       "    .dataframe tbody tr th:only-of-type {\n",
       "        vertical-align: middle;\n",
       "    }\n",
       "\n",
       "    .dataframe tbody tr th {\n",
       "        vertical-align: top;\n",
       "    }\n",
       "\n",
       "    .dataframe thead th {\n",
       "        text-align: right;\n",
       "    }\n",
       "</style>\n",
       "<table border=\"1\" class=\"dataframe\">\n",
       "  <thead>\n",
       "    <tr style=\"text-align: right;\">\n",
       "      <th></th>\n",
       "      <th>ID</th>\n",
       "      <th>num_words</th>\n",
       "      <th>num_chars</th>\n",
       "    </tr>\n",
       "  </thead>\n",
       "  <tbody>\n",
       "    <tr>\n",
       "      <th>0</th>\n",
       "      <td>136</td>\n",
       "      <td>24</td>\n",
       "      <td>154</td>\n",
       "    </tr>\n",
       "    <tr>\n",
       "      <th>1</th>\n",
       "      <td>62</td>\n",
       "      <td>31</td>\n",
       "      <td>193</td>\n",
       "    </tr>\n",
       "    <tr>\n",
       "      <th>2</th>\n",
       "      <td>74</td>\n",
       "      <td>57</td>\n",
       "      <td>451</td>\n",
       "    </tr>\n",
       "    <tr>\n",
       "      <th>3</th>\n",
       "      <td>40</td>\n",
       "      <td>15</td>\n",
       "      <td>104</td>\n",
       "    </tr>\n",
       "    <tr>\n",
       "      <th>4</th>\n",
       "      <td>30</td>\n",
       "      <td>12</td>\n",
       "      <td>71</td>\n",
       "    </tr>\n",
       "  </tbody>\n",
       "</table>\n",
       "</div>"
      ],
      "text/plain": [
       "    ID  num_words  num_chars\n",
       "0  136         24        154\n",
       "1   62         31        193\n",
       "2   74         57        451\n",
       "3   40         15        104\n",
       "4   30         12         71"
      ]
     },
     "execution_count": 9,
     "metadata": {},
     "output_type": "execute_result"
    }
   ],
   "source": [
    "# for train, create a dataframe containing ID, number of words and number of characters\n",
    "train_df['num_words'] = train_df['Text'].apply(lambda x: len(x.split()))\n",
    "train_df['num_chars'] = train_df['Text'].apply(lambda x: len(x))\n",
    "train_df[['ID', 'num_words', 'num_chars']].head()\n"
   ]
  },
  {
   "cell_type": "code",
   "execution_count": 10,
   "metadata": {},
   "outputs": [],
   "source": [
    "# remove the two counts\n",
    "train_df = train_df[[\"ID\", \"Usage\", \"Text\", \"Label\"]]"
   ]
  },
  {
   "cell_type": "markdown",
   "metadata": {},
   "source": [
    "# Alphabet"
   ]
  },
  {
   "cell_type": "code",
   "execution_count": 11,
   "metadata": {},
   "outputs": [
    {
     "name": "stdout",
     "output_type": "stream",
     "text": [
      "    Label  Count                                            Example\n",
      "0     tgk    300  «Пойтахт» бизнес маркази бизнес-музокаралар  к...\n",
      "1     kur    200  Piştî heyşt mehan  di civîna xwe ya sisiyan de...\n",
      "2     crh    200  Сен дюньядан Манъа берген адамларгъа Сенинъ Ад...\n",
      "3     tat    200  Tatar İrekle Entsiklopediäse - Wikipediädä kir...\n",
      "4     bak    200  Һырттың атамаһы Ҡырым татарҙары теленән турана...\n",
      "..    ...    ...                                                ...\n",
      "384   pau      2  A Burj Khalifa a kot el metongakl el blai ra b...\n",
      "385   gcr      1  Jul  (/dʒuːl/ (Djoul))  li k'aplé réèlman Juli...\n",
      "386   gaa      1               Mɛni hewɔ ni oyaaa nitsumɔ ŋmɛnɛ lɛ?\n",
      "387   kua      1  Eendombwedi daJehowa  odi dili moilongo 236 (6...\n",
      "388   toi      1             Sena wasika ciindi nzi kung'anda yako?\n",
      "\n",
      "[389 rows x 3 columns]\n"
     ]
    }
   ],
   "source": [
    "\n",
    "# Assuming train_df is your DataFrame\n",
    "label_counts = train_df['Label'].value_counts()\n",
    "\n",
    "# Create a DataFrame to store label counts and examples\n",
    "label_summary = pd.DataFrame({\n",
    "    'Label': label_counts.index,                  # Labels\n",
    "    'Count': label_counts.values,                # Corresponding counts\n",
    "    'Example': [train_df[train_df['Label'] == label].iloc[0]['Text'] for label in label_counts.index]  # Extract only the 'Text' field\n",
    "})\n",
    "\n",
    "# Display the summary\n",
    "print(label_summary)"
   ]
  },
  {
   "cell_type": "code",
   "execution_count": 12,
   "metadata": {},
   "outputs": [
    {
     "name": "stdout",
     "output_type": "stream",
     "text": [
      "Label\n",
      "tgk    300\n",
      "kur    200\n",
      "crh    200\n",
      "tat    200\n",
      "bak    200\n",
      "      ... \n",
      "pau      2\n",
      "gcr      1\n",
      "gaa      1\n",
      "kua      1\n",
      "toi      1\n",
      "Name: count, Length: 389, dtype: int64\n"
     ]
    }
   ],
   "source": [
    "\n",
    "print(label_counts)"
   ]
  },
  {
   "cell_type": "code",
   "execution_count": 36,
   "metadata": {},
   "outputs": [
    {
     "data": {
      "image/png": "[encoded data removed]",
      "text/plain": [
       "<Figure size 800x500 with 1 Axes>"
      ]
     },
     "metadata": {},
     "output_type": "display_data"
    }
   ],
   "source": [
    "# Get frequency of each unique count\n",
    "count_frequencies = label_counts.value_counts()\n",
    "\n",
    "# Plot histogram-like bar chart\n",
    "plt.figure(figsize=(8, 5))\n",
    "plt.bar(count_frequencies.index, count_frequencies.values, width=5, edgecolor='black')\n",
    "\n",
    "# Labels\n",
    "plt.xlabel('Number of samples')\n",
    "plt.ylabel('Number of instance')\n",
    "plt.title('Histogram of number of samples per language')\n",
    "\n",
    "plt.show()"
   ]
  },
  {
   "cell_type": "code",
   "execution_count": null,
   "metadata": {},
   "outputs": [],
   "source": []
  },
  {
   "cell_type": "code",
   "execution_count": 35,
   "metadata": {},
   "outputs": [],
   "source": [
    "all_unicodes, language_unicodes = process_unicode(train_df, get_unicode)\n"
   ]
  },
  {
   "cell_type": "code",
   "execution_count": 36,
   "metadata": {},
   "outputs": [
    {
     "name": "stdout",
     "output_type": "stream",
     "text": [
      "All Unicode length:\n",
      "6462\n",
      "\n",
      "Number of languages:\n",
      "390\n"
     ]
    }
   ],
   "source": [
    "print(\"All Unicode length:\")\n",
    "print(len(all_unicodes))\n",
    "\n",
    "print(\"\\nNumber of languages:\") #key = language, value = set of all unicodes seen in that language\n",
    "print(len(language_unicodes))"
   ]
  },
  {
   "cell_type": "markdown",
   "metadata": {},
   "source": [
    "# Inconsistency : NaN + 389 Labels"
   ]
  },
  {
   "cell_type": "code",
   "execution_count": 37,
   "metadata": {},
   "outputs": [
    {
     "name": "stdout",
     "output_type": "stream",
     "text": [
      "390\n"
     ]
    }
   ],
   "source": [
    "distinct_labels = train_df['Label'].unique()\n",
    "\n",
    "print(len(distinct_labels))"
   ]
  },
  {
   "cell_type": "code",
   "execution_count": 38,
   "metadata": {},
   "outputs": [
    {
     "name": "stdout",
     "output_type": "stream",
     "text": [
      "['tgk', 'kur', 'crh', 'tat', 'bak', 'gom', 'kat', 'srp', 'hin', 'tuk', 'hau', 'hbs', 'guj', 'mon', 'kaa', 'uig', 'aze', 'uzb', 'som', 'san', 'rmy', 'jbo', 'afr', 'ekk', 'szl', 'mam', 'chv', 'dtp', 'sah', 'diq', 'cab', 'ell', 'luo', 'apc', 'frr', 'nnb', 'ixl', 'naq', 'hmn', 'pes', 'bqc', 'tyv', 'djk', 'kab', 'swa', 'ace', 'vls', 'mgh', 'pcd', 'wal', 'kon', 'new', 'arg', 'nbl', 'yap', 'aym', 'epo', 'umb', 'jav', 'tam', 'mwl', 'hye', 'tir', 'nno', 'ngu', 'kik', 'cos', 'ote', 'est', 'ext', 'kal', 'fon', 'lat', 'cmn', 'ban', 'ctu', 'kaz', 'aoj', 'run', 'nob', 'sin', 'gcf', 'cym', 'alt', 'quw', 'bod', 'cbk', 'bzj', 'yor', 'azb', 'hun', 'twi', 'krc', 'zho', 'div', 'gor', 'pms', 'sco', 'mri', 'ksd', 'kjb', 'chk', 'pag', 'hui', 'pcm', 'isl', 'tls', 'scn', 'mzn', 'ita', 'bjn', 'ful', 'kbd', 'pon', 'ceb', 'lit', 'kam', 'acr', 'nso', 'plt', 'nld', 'orm', 'por', 'hne', 'nor', 'haw', 'ndo', 'tuc', 'srn', 'pfl', 'ncj', 'fin', 'kbp', 'wuu', 'hif', 'ind', 'sgs', 'deu', 'tum', 'yom', 'azj', 'ara', 'hat', 'toj', 'eus', 'ast', 'roh', 'min', 'bel', 'suz', 'msa', 'bam', 'war', 'bik', 'tso', 'lzh', 'afb', 'ido', 'acm', 'fra', 'grn', 'eml', 'abk', 'aln', 'zul', 'slv', 'ina', 'bre', 'quc', 'aka', 'ilo', 'kmb', 'srd', 'asm', 'mya', 'knv', 'gsw', 'lij', 'rue', 'ibo', 'pan', 'oci', 'tpi', 'arz', 'kor', 'nch', 'quh', 'ayr', 'grc', 'lua', 'khm', 'mar', 'dzo', 'nap', 'ikk', 'nav', 'kmr', 'lus', 'xmf', 'zai', 'mps', 'gla', 'kin', 'pis', 'zsm', 'yid', 'kos', 'ori', 'vol', 'bcl', 'que', 'hmo', 'che', 'nya', 'fry', 'ahk', 'npi', 'gle', 'zea', 'cjk', 'wol', 'ory', 'ssw', 'ckb', 'tca', 'gym', 'slk', 'vie', 'mau', 'kpg', 'bew', 'iku', 'wln', 'sna', 'ajp', 'ewe', 'pus', 'bar', 'sat', 'seh', 'nde', 'lim', 'rap', 'ksh', 'als', 'swe', 'kac', 'sot', 'ltz', 'amh', 'kea', 'swc', 'tsn', 'tbz', 'myv', 'lhu', 'vec', 'sqi', 'urd', 'pam', 'mzh', 'qvi', 'lfn', 'mad', 'zlm', 'sag', 'gug', 'lao', 'rop', 'csy', 'dan', 'hrv', 'mai', 'ukr', 'lin', 'nds', 'ber', 'dyu', 'lvs', 'tgl', 'arb', 'yue', 'tlh', 'kan', 'lmo', 'tah', 'ron', 'eng', 'tur', 'fas', 'fij', 'bsb', 'cak', 'ton', 'nep', 'mlt', 'top', 'jam', 'tok', 'spa', 'ces', 'guc', 'ile', 'rug', 'kjh', 'ven', 'csb', 'kom', 'mal', 'hrx', 'ary', 'poh', 'bis', 'vep', 'tzo', 'nyu', 'jpn', 'cuk', 'fao', 'sme', 'lug', 'meu', 'hsb', 'glg', 'mkd', 'xav', 'glk', 'bul', 'pnb', 'heb', 'bem', 'pol', 'kek', 'uzn', 'glv', 'swh', 'smo', 'cat', 'udm', 'bos', 'quy', 'pls', 'snd', 'tdt', 'arn', 'srm', 'fil', 'mhr', 'prs', 'mos', 'bpy', 'oss', 'xho', 'yao', 'hus', 'sun', 'mlg', 'kir', 'tha', 'bih', 'fur', 'mco', 'pap', 'ach', 'hil', 'hbo', 'qub', 'hnj', 'lue', 'hyw', 'mah', 'enm', 'ksw', 'iba', 'ngl', 'teo', 'quz', 'ada', 'wbm', 'miq', 'niu', 'gil', 'crs', 'tvl', 'pau', 'gcr', 'gaa', 'kua', 'toi']\n"
     ]
    }
   ],
   "source": [
    "print(list(label_counts.index))\n"
   ]
  },
  {
   "cell_type": "markdown",
   "metadata": {},
   "source": [
    "1 more in distinct ?? wtf ???"
   ]
  },
  {
   "cell_type": "code",
   "execution_count": 39,
   "metadata": {},
   "outputs": [],
   "source": [
    "set_distinct_labels = set(distinct_labels)\n",
    "set_label_counts = set(label_counts.index)"
   ]
  },
  {
   "cell_type": "code",
   "execution_count": 40,
   "metadata": {},
   "outputs": [],
   "source": [
    "only_in_distinct = set_distinct_labels - set_label_counts  # Labels only in distinct_labels\n",
    "only_in_label_counts = set_label_counts - set_distinct_labels"
   ]
  },
  {
   "cell_type": "code",
   "execution_count": 41,
   "metadata": {},
   "outputs": [
    {
     "name": "stdout",
     "output_type": "stream",
     "text": [
      "Labels only in distinct_labels: {nan}\n",
      "Labels only in label_counts: set()\n",
      "Number of labels only in distinct_labels: 1\n",
      "Number of labels only in label_counts: 0\n"
     ]
    }
   ],
   "source": [
    "# Print the differences\n",
    "print(\"Labels only in distinct_labels:\", only_in_distinct)\n",
    "print(\"Labels only in label_counts:\", only_in_label_counts)\n",
    "\n",
    "# Optional: Check if the lengths match after excluding any missing data\n",
    "print(\"Number of labels only in distinct_labels:\", len(only_in_distinct))\n",
    "print(\"Number of labels only in label_counts:\", len(only_in_label_counts))"
   ]
  },
  {
   "cell_type": "code",
   "execution_count": 42,
   "metadata": {},
   "outputs": [
    {
     "name": "stdout",
     "output_type": "stream",
     "text": [
      "        ID   Usage                                               Text Label\n",
      "1273    26  Public  Āu-lâi in-ūi goân-chū-bîn ê kong-kek  1541 nî ...   NaN\n",
      "1697    68  Public  Chrzowice sī chi̍t ê tī Pho-lân Kiōng-hô-kok O...   NaN\n",
      "1976   116  Public  Tī pún só͘-chāi sì-ûi ê tē-hng ū Drávaszerdahe...   NaN\n",
      "2870     4  Public  Darahanove (Ukraina-gí: ) sī chi̍t ê tī Ukrain...   NaN\n",
      "3079    46  Public   Chit ūi tī 2010 nî ê jîn-kháu-sò͘ sī 1 113 lâng.   NaN\n",
      "...    ...     ...                                                ...   ...\n",
      "36941    6  Public  Arandon sī ūi-tī Hoat-kok Rhône-Alpes toā-khu ...   NaN\n",
      "37066  126  Public  Haft Cheshmeh-ye Jahanshah (Pho-su-gí: ) sī ch...   NaN\n",
      "37487   26  Public  Bulair (Bulgaria-gí: ) sī chi̍t ê tī Bulgaria ...   NaN\n",
      "38375  108  Public  Bô phah-sǹg  tī sin-le̍k 10 go̍eh 29 hō ē-po͘ ...   NaN\n",
      "38712   36  Public  Barsukinė sī chi̍t ê tī Lietuva Kiōng-hô-kok K...   NaN\n",
      "\n",
      "[100 rows x 4 columns]\n"
     ]
    }
   ],
   "source": [
    "# Find the rows where 'Label' is NaN\n",
    "nan_rows = train_df[train_df['Label'].isna()]\n",
    "\n",
    "# Display the rows with NaN in the 'Label' column\n",
    "print(nan_rows)\n"
   ]
  },
  {
   "cell_type": "markdown",
   "metadata": {},
   "source": [
    "100 NaN Labels for some reason"
   ]
  },
  {
   "cell_type": "markdown",
   "metadata": {},
   "source": [
    "# First idea : naive character selection"
   ]
  },
  {
   "cell_type": "code",
   "execution_count": 43,
   "metadata": {},
   "outputs": [],
   "source": [
    "# Initialize the dictionary to track how many languages each Unicode appears in\n",
    "unicode_language_count = {}\n",
    "\n",
    "# Count the number of languages each Unicode appears in\n",
    "for language, unicodes in language_unicodes.items():\n",
    "    for unicode_value in unicodes:\n",
    "        # Increment the count of languages for this Unicode\n",
    "        if unicode_value in unicode_language_count:\n",
    "            unicode_language_count[unicode_value] += 1\n",
    "        else:\n",
    "            unicode_language_count[unicode_value] = 1\n",
    "\n",
    "# Step 2: Extract the counts for the histogram\n",
    "language_counts = list(unicode_language_count.values())\n"
   ]
  },
  {
   "cell_type": "code",
   "execution_count": 44,
   "metadata": {},
   "outputs": [
    {
     "name": "stdout",
     "output_type": "stream",
     "text": [
      "U+0061 :  377\n",
      "U+042F :  27\n",
      "U+6211 :  4\n"
     ]
    }
   ],
   "source": [
    "print(\"U+0061 : \", unicode_language_count[\"U+0061\"]) # a\n",
    "print(\"U+042F : \", unicode_language_count[\"U+042F\"]) # Я\n",
    "print(\"U+6211 : \", unicode_language_count[\"U+6211\"]) # 我"
   ]
  },
  {
   "cell_type": "code",
   "execution_count": 45,
   "metadata": {},
   "outputs": [
    {
     "data": {
      "image/png": "[encoded data removed]",
      "text/plain": [
       "<Figure size 640x480 with 1 Axes>"
      ]
     },
     "metadata": {},
     "output_type": "display_data"
    }
   ],
   "source": [
    "# Plot histogram\n",
    "plt.hist(language_counts, bins=range(1, max(language_counts)+2), edgecolor='black')\n",
    "plt.xlabel('Number of languages per Unicode')\n",
    "plt.ylabel('Frequency')\n",
    "plt.title('Histogram of Unicode usage across languages')\n",
    "plt.show()"
   ]
  },
  {
   "cell_type": "code",
   "execution_count": 46,
   "metadata": {},
   "outputs": [
    {
     "name": "stdout",
     "output_type": "stream",
     "text": [
      "6462\n"
     ]
    }
   ],
   "source": [
    "print(len(language_counts))"
   ]
  },
  {
   "cell_type": "code",
   "execution_count": 47,
   "metadata": {},
   "outputs": [
    {
     "data": {
      "image/png": "[encoded data removed]",
      "text/plain": [
       "<Figure size 640x480 with 1 Axes>"
      ]
     },
     "metadata": {},
     "output_type": "display_data"
    }
   ],
   "source": [
    "plt.hist(language_counts, bins=range(1, 10), edgecolor='black')\n",
    "plt.xlabel('Number of languages per Unicode')\n",
    "plt.ylabel('Frequency')\n",
    "plt.title('Histogram of Unicode usage across languages')\n",
    "plt.show()"
   ]
  },
  {
   "cell_type": "markdown",
   "metadata": {},
   "source": [
    "lots of unicodes appear in only one language."
   ]
  },
  {
   "cell_type": "markdown",
   "metadata": {},
   "source": [
    "# Proper data processing"
   ]
  },
  {
   "cell_type": "code",
   "execution_count": 48,
   "metadata": {},
   "outputs": [],
   "source": [
    "original_train_df = train_df"
   ]
  },
  {
   "cell_type": "code",
   "execution_count": 49,
   "metadata": {},
   "outputs": [
    {
     "ename": "TypeError",
     "evalue": "get_train_data() got multiple values for argument 'removeNaNs'",
     "output_type": "error",
     "traceback": [
      "\u001b[1;31m---------------------------------------------------------------------------\u001b[0m",
      "\u001b[1;31mTypeError\u001b[0m                                 Traceback (most recent call last)",
      "Cell \u001b[1;32mIn[49], line 1\u001b[0m\n\u001b[1;32m----> 1\u001b[0m train_df, validation_df \u001b[38;5;241m=\u001b[39m \u001b[43mget_train_data\u001b[49m\u001b[43m(\u001b[49m\u001b[43mtrain_csv_path\u001b[49m\u001b[43m,\u001b[49m\u001b[43m \u001b[49m\u001b[43mseed\u001b[49m\u001b[43m,\u001b[49m\u001b[43m \u001b[49m\u001b[43mremoveNaNs\u001b[49m\u001b[38;5;241;43m=\u001b[39;49m\u001b[38;5;28;43;01mTrue\u001b[39;49;00m\u001b[43m,\u001b[49m\u001b[43m \u001b[49m\u001b[43mvalidation_proportion\u001b[49m\u001b[38;5;241;43m=\u001b[39;49m\u001b[38;5;241;43m0.2\u001b[39;49m\u001b[43m)\u001b[49m\n",
      "\u001b[1;31mTypeError\u001b[0m: get_train_data() got multiple values for argument 'removeNaNs'"
     ]
    }
   ],
   "source": [
    "train_df, val_df, *_ = get_train_data(val_size=0.2, random_state=seed)"
   ]
  }
 ],
 "metadata": {
  "kernelspec": {
   "display_name": "Python 3",
   "language": "python",
   "name": "python3"
  },
  "language_info": {
   "codemirror_mode": {
    "name": "ipython",
    "version": 3
   },
   "file_extension": ".py",
   "mimetype": "text/x-python",
   "name": "python",
   "nbconvert_exporter": "python",
   "pygments_lexer": "ipython3",
   "version": "3.10.14"
  }
 },
 "nbformat": 4,
 "nbformat_minor": 2
}
